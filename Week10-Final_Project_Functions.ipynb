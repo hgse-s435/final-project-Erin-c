{
 "cells": [
  {
   "cell_type": "markdown",
   "metadata": {},
   "source": [
    "## Data Cleaning"
   ]
  },
  {
   "cell_type": "code",
   "execution_count": 1,
   "metadata": {},
   "outputs": [],
   "source": [
    "import csv\n",
    "import os\n",
    "import shutil"
   ]
  },
  {
   "cell_type": "code",
   "execution_count": 2,
   "metadata": {},
   "outputs": [],
   "source": [
    "# creates a folder for all text files\n",
    "\n",
    "path = '/Users/erincarvalho/Desktop/dev/final-project-Erin-c'\n",
    "if os.path.isdir(path + '/txt_files'):\n",
    "    shutil.rmtree(path + '/txt_files', ignore_errors=False, onerror=None)\n",
    "os.mkdir(path + '/txt_files')"
   ]
  },
  {
   "cell_type": "code",
   "execution_count": 3,
   "metadata": {},
   "outputs": [
    {
     "name": "stdout",
     "output_type": "stream",
     "text": [
      "1444\n",
      "1444\n"
     ]
    }
   ],
   "source": [
    "# creates a separate text file for each topic with all posts and replies from csv\n",
    "# ScratchEd_all_data.csv\n",
    "\n",
    "ids = []\n",
    "\n",
    "with open('ScratchEd_all_data.csv', \"r\", encoding='utf-8', errors='ignore') as csv_file:\n",
    "    csv_reader = csv.reader(csv_file, delimiter=',')\n",
    "    count = 0\n",
    "\n",
    "    for idx, row in enumerate(csv_reader):   \n",
    "        if str(row[0]) in ids:\n",
    "            filename = path + '/txt_files/topic_' + str(row[0]) + '.txt'\n",
    "            file = open(filename,'a+')\n",
    "            contents = str(row[3]) + '\\r\\n' + '\\r\\n'\n",
    "            file.write(contents)\n",
    "        else:\n",
    "            filename = path + '/txt_files/topic_' + str(row[0]) + '.txt'\n",
    "            file = open(filename,'a+')\n",
    "            contents = str(row[3]) + '\\r\\n' + '\\r\\n'\n",
    "            file.write(contents)\n",
    "            ids.append(str(row[0]))\n",
    "            count += 1\n",
    "    print(count)\n",
    "    print(len(ids))"
   ]
  },
  {
   "cell_type": "code",
   "execution_count": 4,
   "metadata": {},
   "outputs": [
    {
     "name": "stdout",
     "output_type": "stream",
     "text": [
      "1444\n"
     ]
    }
   ],
   "source": [
    "import glob\n",
    "\n",
    "# save all the text files in a list\n",
    "\n",
    "threads = glob.glob('./txt_files/*.txt')\n",
    "print(len(threads))"
   ]
  },
  {
   "cell_type": "code",
   "execution_count": 5,
   "metadata": {},
   "outputs": [],
   "source": [
    "documents = []\n",
    "\n",
    "# load actual text into a list\n",
    "\n",
    "for thread in threads: \n",
    "    with open (thread, \"r\", encoding='utf-8', errors='ignore') as t:\n",
    "        documents.append(t.read())\n",
    "        \n",
    "# convert text to all lowercase\n",
    "\n",
    "for i, t in enumerate(threads):\n",
    "    documents[i] = documents[i].lower()"
   ]
  },
  {
   "cell_type": "code",
   "execution_count": 6,
   "metadata": {},
   "outputs": [],
   "source": [
    "punctuation = ['.', '...', '!', '#', '\"', '%', '$', \"'\", '&', ')', \n",
    "               '(', '+', '*', '-', ',', '/', '.', ';', ':', '=', \n",
    "               '<', '?', '>', '@', '\",', '\".', '[', ']', '\\\\', ',',\n",
    "               '_', '^', '`', '{', '}', '|', '~', '−', '”', '“', '’']\n",
    "\n",
    "stop_words = ['i', 'me', 'my', 'myself', 'we', 'our', 'ours', \n",
    "              'ourselves', 'you', 'your', 'yours', 'yourself', \n",
    "              'yourselves', 'he', 'him', 'his', 'himself', 'she', \n",
    "              'her', 'hers', 'herself', 'it', 'its', 'itself', \n",
    "              'they', 'them', 'their', 'theirs', 'themselves', \n",
    "              'what', 'which', 'who', 'whom', 'this', 'that', \n",
    "              'these', 'those', 'am', 'is', 'are', 'was', 'were', \n",
    "              'be', 'been', 'being', 'have', 'has', 'had', 'having', \n",
    "              'do', 'does', 'did', 'doing', 'a', 'an', 'the', 'and', \n",
    "              'but', 'if', 'or', 'because', 'as', 'until', 'while', \n",
    "              'of', 'at', 'by', 'for', 'with', 'about', 'against', \n",
    "              'between', 'into', 'through', 'during', 'before', \n",
    "              'after', 'above', 'below', 'to', 'from', 'up', 'down', \n",
    "              'in', 'out', 'on', 'off', 'over', 'under', 'again', \n",
    "              'further', 'then', 'once', 'here', 'there', 'when', \n",
    "              'where', 'why', 'how', 'all', 'any', 'both', 'each', \n",
    "              'few', 'more', 'most', 'other', 'some', 'such', 'no', \n",
    "              'nor', 'not', 'only', 'own', 'same', 'so', 'than', \n",
    "              'too', 'very', 's', 't', 'can', 'will', \n",
    "              'just', 'don', 'should', 'now']"
   ]
  },
  {
   "cell_type": "code",
   "execution_count": 12,
   "metadata": {},
   "outputs": [],
   "source": [
    "def clean_list_of_documents(documents):\n",
    "    '''cleans a list of documents'''\n",
    "    \n",
    "    cleaned_docs = []\n",
    "    \n",
    "    for i,doc in enumerate(documents):\n",
    "        # removes new lines and carriage returns\n",
    "        doc = doc.replace('\\n', ' ')\n",
    "        doc = doc.replace('\\r', ' ')\n",
    "        # remove ponctuation\n",
    "        for punc in punctuation: \n",
    "            doc = doc.replace(punc, ' ')\n",
    "        # remove numbers\n",
    "        for i in range(10):\n",
    "            doc = doc.replace(str(i), ' ')\n",
    "        # remove stop words\n",
    "        for stop_word in stop_words:\n",
    "            doc = doc.replace(' ' + stop_word + ' ', ' ')\n",
    "        # remove single characters and stem the words \n",
    "        doc = [x for x in doc.split() if len(x) > 2]\n",
    "        doc = \" \".join(doc)\n",
    "        # save the result to our list of documents\n",
    "        cleaned_docs.append(doc)\n",
    "        \n",
    "    return cleaned_docs"
   ]
  },
  {
   "cell_type": "code",
   "execution_count": 13,
   "metadata": {},
   "outputs": [
    {
     "name": "stdout",
     "output_type": "stream",
     "text": [
      "may cambridge scratch educator meetup attendees andrea blake family steven connelly janet dee jing d\n"
     ]
    }
   ],
   "source": [
    "# Print the first bit of the document for sanity\n",
    "\n",
    "clean_docs = clean_list_of_documents(documents)\n",
    "\n",
    "print(clean_docs[0][:100])"
   ]
  },
  {
   "cell_type": "markdown",
   "metadata": {},
   "source": [
    "## Vocabulary"
   ]
  },
  {
   "cell_type": "code",
   "execution_count": 14,
   "metadata": {},
   "outputs": [],
   "source": [
    "import math\n",
    "import numpy as np"
   ]
  },
  {
   "cell_type": "code",
   "execution_count": 15,
   "metadata": {},
   "outputs": [],
   "source": [
    "def get_vocabulary(documents):\n",
    "    '''builds a vocabulary'''\n",
    "    voc = []\n",
    "    for doc in documents:\n",
    "        for word in doc.split():\n",
    "            if word not in voc: \n",
    "                voc.append(word)\n",
    "    voc = list(set(voc))\n",
    "    voc.sort()\n",
    "    return voc\n"
   ]
  },
  {
   "cell_type": "code",
   "execution_count": 16,
   "metadata": {},
   "outputs": [
    {
     "name": "stdout",
     "output_type": "stream",
     "text": [
      "18271\n"
     ]
    }
   ],
   "source": [
    "# Print the length of your vocabulary\n",
    "\n",
    "vocabulary = get_vocabulary(clean_docs)\n",
    "print(len(vocabulary))"
   ]
  },
  {
   "cell_type": "code",
   "execution_count": null,
   "metadata": {},
   "outputs": [],
   "source": []
  }
 ],
 "metadata": {
  "kernelspec": {
   "display_name": "Python 3",
   "language": "python",
   "name": "python3"
  },
  "language_info": {
   "codemirror_mode": {
    "name": "ipython",
    "version": 3
   },
   "file_extension": ".py",
   "mimetype": "text/x-python",
   "name": "python",
   "nbconvert_exporter": "python",
   "pygments_lexer": "ipython3",
   "version": "3.6.4"
  }
 },
 "nbformat": 4,
 "nbformat_minor": 2
}
